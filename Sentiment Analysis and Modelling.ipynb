{
 "cells": [
  {
   "cell_type": "markdown",
   "metadata": {},
   "source": [
    "# Sentiment Analysis and Modelling"
   ]
  },
  {
   "cell_type": "code",
   "execution_count": 52,
   "metadata": {},
   "outputs": [],
   "source": [
    "import numpy as np\n",
    "import pandas as pd\n",
    "import matplotlib.pyplot as plt\n",
    "import seaborn as sns\n",
    "from collections import Counter\n",
    "\n",
    "from sklearn.preprocessing import LabelEncoder, scale, StandardScaler\n",
    "from sklearn.model_selection import train_test_split, GridSearchCV, cross_val_score\n",
    "from sklearn.metrics import confusion_matrix, accuracy_score, roc_auc_score, roc_curve, classification_report\n",
    "from sklearn.metrics import mean_squared_error, mean_absolute_error, r2_score, f1_score\n",
    "from sklearn.linear_model import LogisticRegression\n",
    "\n",
    "from nltk.tokenize import sent_tokenize, word_tokenize\n",
    "from nltk.corpus import stopwords\n",
    "from nltk.stem import WordNetLemmatizer, PorterStemmer\n",
    "from sklearn.feature_extraction.text import TfidfVectorizer, CountVectorizer\n",
    "import nltk\n",
    "# nltk.download(\"punkt\")\n",
    "# nltk.download('stopwords')\n",
    "# nltk.download('wordnet')\n",
    "# nltk.download('maxent_ne_chunker')\n",
    "# nltk.download('words')\n",
    "# nltk.download(\"averaged_perceptron_tagger\")\n",
    "\n",
    "import warnings\n",
    "warnings.filterwarnings('ignore')\n",
    "sns.set_style(\"whitegrid\")\n",
    "plt.rcParams['figure.dpi'] = 100"
   ]
  },
  {
   "cell_type": "markdown",
   "metadata": {},
   "source": [
    "* Dosya ilk once excelde acilir, 4 sutundan olusan bir tablo. data frame olarak okutulabilir."
   ]
  },
  {
   "cell_type": "code",
   "execution_count": 2,
   "metadata": {},
   "outputs": [
    {
     "data": {
      "text/html": [
       "<div>\n",
       "<style scoped>\n",
       "    .dataframe tbody tr th:only-of-type {\n",
       "        vertical-align: middle;\n",
       "    }\n",
       "\n",
       "    .dataframe tbody tr th {\n",
       "        vertical-align: top;\n",
       "    }\n",
       "\n",
       "    .dataframe thead th {\n",
       "        text-align: right;\n",
       "    }\n",
       "</style>\n",
       "<table border=\"1\" class=\"dataframe\">\n",
       "  <thead>\n",
       "    <tr style=\"text-align: right;\">\n",
       "      <th></th>\n",
       "      <th>PhraseId</th>\n",
       "      <th>SentenceId</th>\n",
       "      <th>Phrase</th>\n",
       "      <th>Sentiment</th>\n",
       "    </tr>\n",
       "  </thead>\n",
       "  <tbody>\n",
       "    <tr>\n",
       "      <th>0</th>\n",
       "      <td>1</td>\n",
       "      <td>1</td>\n",
       "      <td>A series of escapades demonstrating the adage ...</td>\n",
       "      <td>1</td>\n",
       "    </tr>\n",
       "    <tr>\n",
       "      <th>1</th>\n",
       "      <td>2</td>\n",
       "      <td>1</td>\n",
       "      <td>A series of escapades demonstrating the adage ...</td>\n",
       "      <td>2</td>\n",
       "    </tr>\n",
       "    <tr>\n",
       "      <th>2</th>\n",
       "      <td>3</td>\n",
       "      <td>1</td>\n",
       "      <td>A series</td>\n",
       "      <td>2</td>\n",
       "    </tr>\n",
       "    <tr>\n",
       "      <th>3</th>\n",
       "      <td>4</td>\n",
       "      <td>1</td>\n",
       "      <td>A</td>\n",
       "      <td>2</td>\n",
       "    </tr>\n",
       "    <tr>\n",
       "      <th>4</th>\n",
       "      <td>5</td>\n",
       "      <td>1</td>\n",
       "      <td>series</td>\n",
       "      <td>2</td>\n",
       "    </tr>\n",
       "  </tbody>\n",
       "</table>\n",
       "</div>"
      ],
      "text/plain": [
       "   PhraseId  SentenceId                                             Phrase  \\\n",
       "0         1           1  A series of escapades demonstrating the adage ...   \n",
       "1         2           1  A series of escapades demonstrating the adage ...   \n",
       "2         3           1                                           A series   \n",
       "3         4           1                                                  A   \n",
       "4         5           1                                             series   \n",
       "\n",
       "   Sentiment  \n",
       "0          1  \n",
       "1          2  \n",
       "2          2  \n",
       "3          2  \n",
       "4          2  "
      ]
     },
     "execution_count": 2,
     "metadata": {},
     "output_type": "execute_result"
    }
   ],
   "source": [
    "df=pd.read_csv('train.tsv',sep='\\t')\n",
    "df.head()"
   ]
  },
  {
   "cell_type": "code",
   "execution_count": 3,
   "metadata": {},
   "outputs": [
    {
     "data": {
      "text/plain": [
       "(156060, 4)"
      ]
     },
     "execution_count": 3,
     "metadata": {},
     "output_type": "execute_result"
    }
   ],
   "source": [
    "df.shape"
   ]
  },
  {
   "cell_type": "code",
   "execution_count": 4,
   "metadata": {},
   "outputs": [
    {
     "data": {
      "text/plain": [
       "PhraseId      0\n",
       "SentenceId    0\n",
       "Phrase        0\n",
       "Sentiment     0\n",
       "dtype: int64"
      ]
     },
     "execution_count": 4,
     "metadata": {},
     "output_type": "execute_result"
    }
   ],
   "source": [
    "df.isnull().sum()"
   ]
  },
  {
   "cell_type": "code",
   "execution_count": 5,
   "metadata": {},
   "outputs": [
    {
     "data": {
      "text/plain": [
       "array([1, 2, 3, 4, 0], dtype=int64)"
      ]
     },
     "execution_count": 5,
     "metadata": {},
     "output_type": "execute_result"
    }
   ],
   "source": [
    "df.Sentiment.unique()"
   ]
  },
  {
   "cell_type": "code",
   "execution_count": 6,
   "metadata": {},
   "outputs": [],
   "source": [
    "df.drop(['PhraseId','SentenceId'],axis=1,inplace=True)"
   ]
  },
  {
   "cell_type": "code",
   "execution_count": 7,
   "metadata": {},
   "outputs": [
    {
     "data": {
      "image/png": "[encoded data removed]",
      "text/plain": [
       "<Figure size 432x288 with 1 Axes>"
      ]
     },
     "metadata": {
      "needs_background": "light"
     },
     "output_type": "display_data"
    }
   ],
   "source": [
    "# fig,ax=plt.subplots(figsize=(10,6))\n",
    "\n",
    "ax=sns.countplot(x='Sentiment', data=df)\n",
    "\n",
    "for p in ax.patches:\n",
    "        ax.annotate('%{:.1f}\\n{:.0f}'.format(100*p.get_height()/len(df),p.get_height()), \n",
    "                    (p.get_x()+0.2, p.get_height()-3500))"
   ]
  },
  {
   "cell_type": "markdown",
   "metadata": {},
   "source": [
    "* Dosyada sentiment Analiz yapilmis ve 0-4 arasi puanlama yapilmis. Bizim amacimiz 0 ve 1 leri Negatif, 3 ve 4 ler Pozitif, 2 leri so-so kabul ederek yeni siniflandirma yapmak. 2 olanlari drop etmek."
   ]
  },
  {
   "cell_type": "code",
   "execution_count": 8,
   "metadata": {},
   "outputs": [],
   "source": [
    "df.Sentiment=df.Sentiment.map({0:'Negative', \n",
    "                               1:'Negative', \n",
    "                               2:2, \n",
    "                               3:'Positive', \n",
    "                               4:'Positive'})"
   ]
  },
  {
   "cell_type": "code",
   "execution_count": 9,
   "metadata": {},
   "outputs": [],
   "source": [
    "df.drop(df[ df['Sentiment'] ==2 ].index, axis=0,inplace=True)"
   ]
  },
  {
   "cell_type": "code",
   "execution_count": 10,
   "metadata": {},
   "outputs": [
    {
     "data": {
      "image/png": "[encoded data removed]",
      "text/plain": [
       "<Figure size 432x432 with 1 Axes>"
      ]
     },
     "metadata": {},
     "output_type": "display_data"
    },
    {
     "data": {
      "text/plain": [
       "Positive    42133\n",
       "Negative    34345\n",
       "Name: Sentiment, dtype: int64"
      ]
     },
     "execution_count": 10,
     "metadata": {},
     "output_type": "execute_result"
    }
   ],
   "source": [
    "plt.figure(figsize=(6,6))\n",
    "\n",
    "explode = [0,0.1]\n",
    "plt.pie(df['Sentiment'].value_counts(),explode=explode,autopct='%1.1f%%',shadow=True,startangle=100)\n",
    "plt.legend(labels=['Positive','Negative'])\n",
    "plt.title('Positive and Negative Distribution')\n",
    "plt.axis('off')\n",
    "plt.show()\n",
    "\n",
    "df.Sentiment.value_counts()"
   ]
  },
  {
   "cell_type": "markdown",
   "metadata": {},
   "source": [
    "* Data can be considered as balanced"
   ]
  },
  {
   "cell_type": "code",
   "execution_count": 11,
   "metadata": {},
   "outputs": [],
   "source": [
    "# # Alternative\n",
    "# ax=sns.countplot(x='Sentiment', data=df)\n",
    "\n",
    "# for p in ax.patches:\n",
    "#         ax.annotate('%{:.1f}\\n{:.0f}'.format(100*p.get_height()/len(df),p.get_height()), \n",
    "#                     (p.get_x()+0.3, p.get_height()-2000))"
   ]
  },
  {
   "cell_type": "code",
   "execution_count": 12,
   "metadata": {},
   "outputs": [
    {
     "data": {
      "text/html": [
       "<div>\n",
       "<style scoped>\n",
       "    .dataframe tbody tr th:only-of-type {\n",
       "        vertical-align: middle;\n",
       "    }\n",
       "\n",
       "    .dataframe tbody tr th {\n",
       "        vertical-align: top;\n",
       "    }\n",
       "\n",
       "    .dataframe thead th {\n",
       "        text-align: right;\n",
       "    }\n",
       "</style>\n",
       "<table border=\"1\" class=\"dataframe\">\n",
       "  <thead>\n",
       "    <tr style=\"text-align: right;\">\n",
       "      <th></th>\n",
       "      <th>Phrase</th>\n",
       "      <th>Sentiment</th>\n",
       "    </tr>\n",
       "  </thead>\n",
       "  <tbody>\n",
       "    <tr>\n",
       "      <th>0</th>\n",
       "      <td>A series of escapades demonstrating the adage ...</td>\n",
       "      <td>Negative</td>\n",
       "    </tr>\n",
       "    <tr>\n",
       "      <th>21</th>\n",
       "      <td>good for the goose</td>\n",
       "      <td>Positive</td>\n",
       "    </tr>\n",
       "    <tr>\n",
       "      <th>22</th>\n",
       "      <td>good</td>\n",
       "      <td>Positive</td>\n",
       "    </tr>\n",
       "    <tr>\n",
       "      <th>33</th>\n",
       "      <td>the gander , some of which occasionally amuses...</td>\n",
       "      <td>Negative</td>\n",
       "    </tr>\n",
       "    <tr>\n",
       "      <th>46</th>\n",
       "      <td>amuses</td>\n",
       "      <td>Positive</td>\n",
       "    </tr>\n",
       "  </tbody>\n",
       "</table>\n",
       "</div>"
      ],
      "text/plain": [
       "                                               Phrase Sentiment\n",
       "0   A series of escapades demonstrating the adage ...  Negative\n",
       "21                                 good for the goose  Positive\n",
       "22                                               good  Positive\n",
       "33  the gander , some of which occasionally amuses...  Negative\n",
       "46                                             amuses  Positive"
      ]
     },
     "execution_count": 12,
     "metadata": {},
     "output_type": "execute_result"
    }
   ],
   "source": [
    "df.head()"
   ]
  },
  {
   "cell_type": "markdown",
   "metadata": {},
   "source": [
    "* Feature adlarini daha anlasilir hale getirelim."
   ]
  },
  {
   "cell_type": "code",
   "execution_count": 13,
   "metadata": {},
   "outputs": [],
   "source": [
    "df.rename(columns={\"Sentiment\": \"Labels\", \"Phrase\": \"Sentences\"},inplace=True)"
   ]
  },
  {
   "cell_type": "code",
   "execution_count": 14,
   "metadata": {},
   "outputs": [
    {
     "data": {
      "text/html": [
       "<div>\n",
       "<style scoped>\n",
       "    .dataframe tbody tr th:only-of-type {\n",
       "        vertical-align: middle;\n",
       "    }\n",
       "\n",
       "    .dataframe tbody tr th {\n",
       "        vertical-align: top;\n",
       "    }\n",
       "\n",
       "    .dataframe thead th {\n",
       "        text-align: right;\n",
       "    }\n",
       "</style>\n",
       "<table border=\"1\" class=\"dataframe\">\n",
       "  <thead>\n",
       "    <tr style=\"text-align: right;\">\n",
       "      <th></th>\n",
       "      <th>Sentences</th>\n",
       "      <th>Labels</th>\n",
       "    </tr>\n",
       "  </thead>\n",
       "  <tbody>\n",
       "    <tr>\n",
       "      <th>0</th>\n",
       "      <td>A series of escapades demonstrating the adage ...</td>\n",
       "      <td>Negative</td>\n",
       "    </tr>\n",
       "    <tr>\n",
       "      <th>21</th>\n",
       "      <td>good for the goose</td>\n",
       "      <td>Positive</td>\n",
       "    </tr>\n",
       "    <tr>\n",
       "      <th>22</th>\n",
       "      <td>good</td>\n",
       "      <td>Positive</td>\n",
       "    </tr>\n",
       "    <tr>\n",
       "      <th>33</th>\n",
       "      <td>the gander , some of which occasionally amuses...</td>\n",
       "      <td>Negative</td>\n",
       "    </tr>\n",
       "    <tr>\n",
       "      <th>46</th>\n",
       "      <td>amuses</td>\n",
       "      <td>Positive</td>\n",
       "    </tr>\n",
       "  </tbody>\n",
       "</table>\n",
       "</div>"
      ],
      "text/plain": [
       "                                            Sentences    Labels\n",
       "0   A series of escapades demonstrating the adage ...  Negative\n",
       "21                                 good for the goose  Positive\n",
       "22                                               good  Positive\n",
       "33  the gander , some of which occasionally amuses...  Negative\n",
       "46                                             amuses  Positive"
      ]
     },
     "execution_count": 14,
     "metadata": {},
     "output_type": "execute_result"
    }
   ],
   "source": [
    "df.head()"
   ]
  },
  {
   "cell_type": "markdown",
   "metadata": {},
   "source": [
    "* Tum data sette yalniz 1 defa gecen kelimeleri bulalim"
   ]
  },
  {
   "cell_type": "code",
   "execution_count": 15,
   "metadata": {},
   "outputs": [
    {
     "data": {
      "text/plain": [
       "955"
      ]
     },
     "execution_count": 15,
     "metadata": {},
     "output_type": "execute_result"
    }
   ],
   "source": [
    "valueDict=Counter(' '.join(df.Sentences).split())\n",
    "rare_words=[k for k,v in valueDict.items() if v<2]\n",
    "len(rare_words)"
   ]
  },
  {
   "cell_type": "code",
   "execution_count": 16,
   "metadata": {},
   "outputs": [],
   "source": [
    "# # Alternative\n",
    "# valueCounts=pd.Series(' '.join(df.Sentences).split()).value_counts()\n",
    "# rare_words=valueCounts[valueCounts.values<2].index\n",
    "# len(rare_words)"
   ]
  },
  {
   "cell_type": "code",
   "execution_count": 17,
   "metadata": {},
   "outputs": [
    {
     "data": {
      "text/plain": [
       "['escapades',\n",
       " 'Ismail',\n",
       " 'Narratively',\n",
       " 'mainland',\n",
       " '7',\n",
       " 'preach',\n",
       " 'exclusively',\n",
       " 'Horton',\n",
       " 'Decter',\n",
       " 'Swinging',\n",
       " 'hobby',\n",
       " 'Tolstoy',\n",
       " 'groupies',\n",
       " 'Giannini',\n",
       " 'near-future',\n",
       " 'creature-feature',\n",
       " 'chemicals',\n",
       " 'Spalding',\n",
       " 'Gray',\n",
       " 'Cloaks',\n",
       " 'Jolting',\n",
       " 'copyof',\n",
       " 'flame-like',\n",
       " 'tentative',\n",
       " 'puzzles',\n",
       " 'masquerading',\n",
       " 'Judith',\n",
       " 'Zaza',\n",
       " 'bedroom',\n",
       " 'concentrate',\n",
       " 'non-mystery',\n",
       " 'resurrect',\n",
       " 'longevity',\n",
       " 'zip',\n",
       " 'front-loaded',\n",
       " 'shapely',\n",
       " '1990',\n",
       " 'Nicely',\n",
       " 'Broder',\n",
       " 'Bear',\n",
       " 'Delia',\n",
       " 'Greta',\n",
       " 'Paula',\n",
       " 'Aussie',\n",
       " 'channels',\n",
       " 'not-quite-dead',\n",
       " 'averse',\n",
       " '1972',\n",
       " 'hinge',\n",
       " 'Bart',\n",
       " 'handguns',\n",
       " 'BMWs',\n",
       " 'seaside',\n",
       " 'chateaus',\n",
       " 'rollerball',\n",
       " 'Claims',\n",
       " 'directive',\n",
       " 'costs',\n",
       " '50-million',\n",
       " 'US',\n",
       " 'biblical',\n",
       " 'shrapnel',\n",
       " 'shellshock',\n",
       " 'Warren',\n",
       " 'chop',\n",
       " 'suey',\n",
       " 'Jeopardy',\n",
       " 'honks',\n",
       " 'Pug',\n",
       " 'roughage',\n",
       " 'dominates',\n",
       " 'subconscious',\n",
       " 'fertility',\n",
       " 'Goofy',\n",
       " 'confounded',\n",
       " 'bio-doc',\n",
       " 'Falsehoods',\n",
       " 'Chalk',\n",
       " 'apes',\n",
       " 'Justine',\n",
       " 'smoothed',\n",
       " 'Shankman',\n",
       " 'Janszen',\n",
       " 'states',\n",
       " 'starry',\n",
       " 'piquant',\n",
       " 'Tattoo',\n",
       " 'voyeur',\n",
       " 'Grumpy',\n",
       " 'pranksters',\n",
       " 'activists',\n",
       " 'Hutchins',\n",
       " 'dwell',\n",
       " 'large-frame',\n",
       " 'snapshot',\n",
       " 'Brecht',\n",
       " 'Order',\n",
       " 'Raccoons',\n",
       " 'Stage',\n",
       " 'white-trash',\n",
       " 'Teens',\n",
       " '1971',\n",
       " 'Bedknobs',\n",
       " 'Broomsticks',\n",
       " 'Thin',\n",
       " 'Kitschy',\n",
       " 'diversions',\n",
       " 'Slight',\n",
       " 'inform',\n",
       " 'educate',\n",
       " 'Forrest',\n",
       " 'Gump',\n",
       " 'doggie',\n",
       " 'Colosseum',\n",
       " 'bare-midriff',\n",
       " 'Whole',\n",
       " 'hushed',\n",
       " 'Somehow',\n",
       " 'duties',\n",
       " 'terrified',\n",
       " 'Punitively',\n",
       " 'affirmational',\n",
       " 'Star\\\\/producer',\n",
       " 'EXIT',\n",
       " 'Rare',\n",
       " 'Birds',\n",
       " 'Alternative',\n",
       " 'Bland',\n",
       " 'Action',\n",
       " 'appreciative',\n",
       " 'Eh',\n",
       " 'Disturbing',\n",
       " 'Millions',\n",
       " 'Hunnam',\n",
       " 'DePalma',\n",
       " 'Reassuring',\n",
       " 'descend',\n",
       " 'Utah',\n",
       " 'ferret',\n",
       " 'Continually',\n",
       " 'Merchant-Ivory',\n",
       " 'cockeyed',\n",
       " 'Rudy',\n",
       " 'Lodge',\n",
       " 'lately',\n",
       " 'Absurdities',\n",
       " 'casualties',\n",
       " 'Seth',\n",
       " 'Pepper',\n",
       " 'McAdams',\n",
       " 'Blisteringly',\n",
       " 'seriocomic',\n",
       " 'Fairlane',\n",
       " 'Mariah',\n",
       " 'Carey',\n",
       " 'Pedro',\n",
       " 'unwillingness',\n",
       " 'Frankenstein',\n",
       " 'hyperbolic',\n",
       " 'Funk',\n",
       " 'Wedge',\n",
       " 'Berg',\n",
       " 'Ackerman',\n",
       " 'Trades',\n",
       " 'Trinity',\n",
       " 'Assembly',\n",
       " 'printed',\n",
       " 'spaceship',\n",
       " 'launching',\n",
       " 'pad',\n",
       " 'Personally',\n",
       " 'Toward',\n",
       " 'Puportedly',\n",
       " 'dynamite',\n",
       " 'Stortelling',\n",
       " 'rise-and-fall',\n",
       " '78',\n",
       " 'manifestation',\n",
       " 'black-owned',\n",
       " 'pseudo-serious',\n",
       " 'Monroe',\n",
       " 'Predecessors',\n",
       " 'observer',\n",
       " 'Jam-packed',\n",
       " 'Patric',\n",
       " 'BarberShop',\n",
       " 'Grenier',\n",
       " 'Wes',\n",
       " 'Imogen',\n",
       " 'Kimmel',\n",
       " 'something-borrowed',\n",
       " 'ball-and-chain',\n",
       " 'Kicks',\n",
       " 'Gently',\n",
       " 'affections',\n",
       " 'single-handed',\n",
       " 'supplied',\n",
       " 'two-fifths',\n",
       " 'Delirious',\n",
       " 'P.O.V.',\n",
       " 'mounts',\n",
       " 'skateboards',\n",
       " 'fifties',\n",
       " 'teen-gang',\n",
       " 'Characterisation',\n",
       " 'pandemonium',\n",
       " '10th',\n",
       " 'culled',\n",
       " 'Coburn',\n",
       " 'Throw',\n",
       " 'upside',\n",
       " 'hash',\n",
       " 'stormy',\n",
       " 'Drowning',\n",
       " 'fistfights',\n",
       " 'spawn',\n",
       " 'RINGU',\n",
       " 'hateful',\n",
       " 'representing',\n",
       " 'assimilated',\n",
       " 'lighten',\n",
       " 'Hoult',\n",
       " 'gushy',\n",
       " 'S',\n",
       " 'fanatic',\n",
       " 'Laughably',\n",
       " 'shortest',\n",
       " 'Hole',\n",
       " 'ads',\n",
       " 'periods',\n",
       " 'barn-side',\n",
       " 'Suffice',\n",
       " 'actor\\\\/director',\n",
       " 'Polson',\n",
       " 'Belongs',\n",
       " 'wisp',\n",
       " 'towering',\n",
       " 'highlights',\n",
       " 'lord',\n",
       " 'messianic',\n",
       " 'Viewed',\n",
       " 'Forgettable',\n",
       " 'neuroses',\n",
       " 'interfaith',\n",
       " 'errs',\n",
       " 'eternally',\n",
       " 'Grainy',\n",
       " 'Harmless',\n",
       " 'First-timer',\n",
       " 'non-Britney',\n",
       " 'Obviously',\n",
       " 'Hatosy',\n",
       " 'rez',\n",
       " 'long-running',\n",
       " 'Speaks',\n",
       " 'peekaboo',\n",
       " 'shave',\n",
       " 'topping',\n",
       " 'Breen',\n",
       " 'Breillat',\n",
       " 're-assess',\n",
       " 'overload',\n",
       " 'unravels',\n",
       " 'mingles',\n",
       " 'Jeffs',\n",
       " 'orange',\n",
       " 'jumpsuit',\n",
       " 'Kool-Aid',\n",
       " 'Passionate',\n",
       " 'Methodical',\n",
       " 'Beresford',\n",
       " '72-year-old',\n",
       " 'Peppering',\n",
       " 'folktales',\n",
       " 'Outside',\n",
       " 'Cineasts',\n",
       " 'K.',\n",
       " 'calculations',\n",
       " 'Conforms',\n",
       " 'Swims',\n",
       " 'dynamited',\n",
       " 'Terrible',\n",
       " 'Tiresomely',\n",
       " 'unseen',\n",
       " 'resides',\n",
       " 'Lookin',\n",
       " 'American-style',\n",
       " 'By-the-numbers',\n",
       " 'hyphenate',\n",
       " 'staggering',\n",
       " 'Upon',\n",
       " 'Indeed',\n",
       " 'ascertain',\n",
       " 'near-miss',\n",
       " 'Spade',\n",
       " 'Citizen',\n",
       " 'Pratfalls',\n",
       " 'Victor',\n",
       " 'Rosa',\n",
       " 'History',\n",
       " 'techno-sex',\n",
       " 'Synthetic',\n",
       " 'anti-human',\n",
       " 'gang-member',\n",
       " 'strategy',\n",
       " 'Christine',\n",
       " 'Choppy',\n",
       " 'VeggieTales',\n",
       " 'Fairy-tale',\n",
       " 'sisterhood',\n",
       " 'coastal',\n",
       " 'Horns',\n",
       " 'Halos',\n",
       " 'Martyr',\n",
       " 're-release',\n",
       " 'Compulsively',\n",
       " 'Cardellini',\n",
       " 'Snacks',\n",
       " 'Sense',\n",
       " 'scandals',\n",
       " 'contrasts',\n",
       " 'Bratt',\n",
       " 'Curiously',\n",
       " 'condone',\n",
       " 'Shunji',\n",
       " 'Fairly',\n",
       " 'Formulaic',\n",
       " '51st',\n",
       " 'Spectators',\n",
       " 'Problem',\n",
       " 'overburdened',\n",
       " 'Fulfills',\n",
       " 'Moretti',\n",
       " 'Begins',\n",
       " 'jerky',\n",
       " 'hand-held',\n",
       " 'intractable',\n",
       " 'irreversible',\n",
       " 'Munch',\n",
       " 'synthetic',\n",
       " 'stubborn',\n",
       " 'patriarchal',\n",
       " 'debating',\n",
       " 'societies',\n",
       " 'Superb',\n",
       " 'Times',\n",
       " 'Spare',\n",
       " 'Galinsky',\n",
       " 'Hawley',\n",
       " 'planned',\n",
       " 'Co-writer\\\\/director',\n",
       " 'Afterschool',\n",
       " 'Steadfastly',\n",
       " 'Cosby-Seinfeld',\n",
       " 'summary',\n",
       " 'Incoherence',\n",
       " 'reigns',\n",
       " '4ever',\n",
       " 'hem',\n",
       " 'hems',\n",
       " 're',\n",
       " 'motorized',\n",
       " 'scooter',\n",
       " 'evolving',\n",
       " 'ces',\n",
       " 'Chuck',\n",
       " 'community-therapy',\n",
       " 'spotlights',\n",
       " 'Sinise',\n",
       " 'Fifty',\n",
       " 'Flatman',\n",
       " 'spoiler',\n",
       " 'Otto-Sallies',\n",
       " 'Bravado',\n",
       " 'Absolutely',\n",
       " 'qual',\n",
       " 'cutthroat',\n",
       " 'Hopelessly',\n",
       " 'Matters',\n",
       " 'Hope',\n",
       " 'Symbolically',\n",
       " 'Cusack',\n",
       " 'Equlibrium',\n",
       " 'Merely',\n",
       " 'Contradicts',\n",
       " 'Encounters',\n",
       " 'Kind',\n",
       " 'Weirdly',\n",
       " '24-and-unders',\n",
       " 'Lantern',\n",
       " 'Others',\n",
       " 'beside',\n",
       " 'teen-oriented',\n",
       " 'Campion',\n",
       " 'photographs',\n",
       " 'paste',\n",
       " 'blows',\n",
       " 'hi',\n",
       " '270',\n",
       " 'skirmishes',\n",
       " 'unfurls',\n",
       " 'Kiarostami',\n",
       " 'Nevertheless',\n",
       " 'Open-ended',\n",
       " 'gunfest',\n",
       " 'invaders',\n",
       " 'Winter',\n",
       " 'Functions',\n",
       " 'Masseur',\n",
       " 'O2-tank',\n",
       " 'Broca',\n",
       " 'Light-years',\n",
       " 'ancillary',\n",
       " 'products',\n",
       " 'Portugal',\n",
       " 'clutches',\n",
       " 'Drama',\n",
       " 'clan',\n",
       " 'Examines',\n",
       " 'studies',\n",
       " 'Always',\n",
       " 'Mama',\n",
       " 'Africa',\n",
       " 'Adolescents',\n",
       " 'Sounding',\n",
       " 'underwater',\n",
       " 'Gay',\n",
       " 'Decent',\n",
       " 'Fulford-Wierzbicki',\n",
       " 'counterpart',\n",
       " 'talking-animal',\n",
       " 'kilted',\n",
       " 'bare-bones',\n",
       " 'zealously',\n",
       " 'u-boat',\n",
       " 'blighter',\n",
       " 'Kangaroo',\n",
       " 'Tchaikovsky',\n",
       " 'Viewing',\n",
       " 'Pie-like',\n",
       " 'irreverence',\n",
       " 'talk-heavy',\n",
       " 'Combine',\n",
       " 'Rewarding',\n",
       " 'Boldly',\n",
       " 'Stop',\n",
       " 'tune',\n",
       " 'Carlen',\n",
       " 'cornpone',\n",
       " 'Cosa',\n",
       " 'Nostra',\n",
       " 'occurrences',\n",
       " 'Critics',\n",
       " 'too-extreme-for-TV',\n",
       " 'faulted',\n",
       " 'Paltrow',\n",
       " 'caved',\n",
       " 'expeditious',\n",
       " 'Ark',\n",
       " 'Disjointed',\n",
       " 'nights',\n",
       " 'Senegalese',\n",
       " 'Plus',\n",
       " 'greaseballs',\n",
       " 'police-oriented',\n",
       " 'Uwe',\n",
       " 'Burke',\n",
       " 'Monster',\n",
       " 'horns',\n",
       " 'Baio',\n",
       " 'Enchanted',\n",
       " 'liberally',\n",
       " '50-something',\n",
       " 'lovebirds',\n",
       " 'Qualities',\n",
       " 'Cook',\n",
       " 'Strangely',\n",
       " 'Confusion',\n",
       " 'hidden-agenda',\n",
       " 'departs',\n",
       " '4W',\n",
       " 'Blow',\n",
       " 'Boyz',\n",
       " 'Matches',\n",
       " 'Sturges',\n",
       " 'Gryffindor',\n",
       " 'scarf',\n",
       " 'Beware',\n",
       " 'Brit-com',\n",
       " 'gymnastics',\n",
       " 'barbers',\n",
       " 'Friedman',\n",
       " '1970',\n",
       " 'Photographer',\n",
       " 'Self-congratulatory',\n",
       " 'Rymer',\n",
       " 'civilized',\n",
       " 'cadavers',\n",
       " 'Romething',\n",
       " 'serving',\n",
       " 'continuing',\n",
       " 'unconned',\n",
       " 'slips',\n",
       " 'instalment',\n",
       " 'Eccentric',\n",
       " 'guises',\n",
       " 'Films',\n",
       " 'Believability',\n",
       " '15th',\n",
       " 'lipstick',\n",
       " 'break-ups',\n",
       " 'Pelosi',\n",
       " 'McDowell',\n",
       " 'Tyson',\n",
       " 'McCrudden',\n",
       " 'mar',\n",
       " 'Finally',\n",
       " 'Yang',\n",
       " 'Electric',\n",
       " 'Deflated',\n",
       " 'Wishy-washy',\n",
       " 'graduation',\n",
       " 'over-amorous',\n",
       " 'terrier',\n",
       " 'Please',\n",
       " 'underlined',\n",
       " 'Edmund',\n",
       " 'Yourself',\n",
       " 'Wins',\n",
       " 'vote',\n",
       " 'Maggio',\n",
       " 'Greg',\n",
       " 'Comic',\n",
       " 'Either',\n",
       " 'Garbus',\n",
       " 'discards',\n",
       " 'pathological',\n",
       " 'exhuming',\n",
       " 'Skillfully',\n",
       " 'Doo',\n",
       " 'Recoing',\n",
       " 'Connoisseurs',\n",
       " 'locale',\n",
       " 'Frodo',\n",
       " 'A.S.',\n",
       " 'Alfonso',\n",
       " 'plumbed',\n",
       " 'Observant',\n",
       " 'transgression',\n",
       " 'sophisticates',\n",
       " 'Featherweight',\n",
       " 'Believes',\n",
       " 'Partly',\n",
       " 'Defies',\n",
       " 'Notice',\n",
       " 'Sacre',\n",
       " 'bleu',\n",
       " 'tightly',\n",
       " 'glitzy',\n",
       " 'Applegate',\n",
       " 'eighth',\n",
       " 'ex-Marine',\n",
       " 'Creates',\n",
       " 'NOT',\n",
       " 'struts',\n",
       " 'xtc',\n",
       " 'sweep',\n",
       " 'fabuleux',\n",
       " 'sweating',\n",
       " 'Giler',\n",
       " 'reactive',\n",
       " 'arm',\n",
       " 'Someone',\n",
       " 'visualizing',\n",
       " 'Bouquet',\n",
       " 'subcultures',\n",
       " 'surface-obsession',\n",
       " 'Lux',\n",
       " 'Video',\n",
       " 'plot-lines',\n",
       " 'Otherwise',\n",
       " 'slasher-movie',\n",
       " 'Aan',\n",
       " 'dim',\n",
       " 'echo',\n",
       " 'Blake',\n",
       " 'Bluto',\n",
       " 'Blutarsky',\n",
       " 'findings',\n",
       " 'Quietly',\n",
       " 'gays',\n",
       " 'turntable',\n",
       " 'social\\\\/economic\\\\/urban',\n",
       " 'Schweig',\n",
       " 'Amidst',\n",
       " 'Weiss',\n",
       " 'Stomp',\n",
       " 'not-too-distant',\n",
       " 'Sweetly',\n",
       " 'truncheoning',\n",
       " 'flux',\n",
       " 'McCoist',\n",
       " 'expend',\n",
       " 'Mazel',\n",
       " 'limb',\n",
       " 'Chilling',\n",
       " '26',\n",
       " 'sparring',\n",
       " 'thus',\n",
       " 'espite',\n",
       " 'overstylized',\n",
       " 'Left',\n",
       " 'Ode',\n",
       " 'porthole',\n",
       " 'battlefield',\n",
       " 'Splendidly',\n",
       " 'whit',\n",
       " 'ZigZag',\n",
       " 'closed-door',\n",
       " 'hanky-panky',\n",
       " 'gears',\n",
       " 'Crummy',\n",
       " 'grounds',\n",
       " 'Heidi',\n",
       " 'Mai',\n",
       " 'Thi',\n",
       " 'Mildly',\n",
       " 'Dumb',\n",
       " 'S.',\n",
       " 'artnering',\n",
       " 'TV-cops',\n",
       " 'college-spawned',\n",
       " 'Colgate',\n",
       " 'U.',\n",
       " 'Broken',\n",
       " 'CHiPs',\n",
       " 'stalked',\n",
       " 'Seeks',\n",
       " 'unrepentant',\n",
       " 'rail',\n",
       " 'Arguably',\n",
       " 'bod',\n",
       " 'postapocalyptic',\n",
       " 'obstacle',\n",
       " 'Fantastic',\n",
       " 'Large',\n",
       " 'inmates',\n",
       " 'ins',\n",
       " 'outs',\n",
       " 'Ignoring',\n",
       " 'MY',\n",
       " 'LITTLE',\n",
       " 'EYE',\n",
       " 'Officially',\n",
       " 'Real-life',\n",
       " 'strongman',\n",
       " 'specificity',\n",
       " 'SLC',\n",
       " 'command',\n",
       " 'chirpy',\n",
       " 'tomfoolery',\n",
       " 'anti-Kieslowski',\n",
       " 'Saved',\n",
       " 'Unwieldy',\n",
       " 'deer',\n",
       " 'locusts',\n",
       " 'horde',\n",
       " 'talkers',\n",
       " 'Sparks',\n",
       " 'Granger',\n",
       " 'Philosophically',\n",
       " 'Barely',\n",
       " 'unfaithful',\n",
       " 'riddles',\n",
       " 'Off',\n",
       " 'Hook',\n",
       " 'silence',\n",
       " 'Tennessee',\n",
       " 'Wraps',\n",
       " 'salaciously',\n",
       " 'Complex',\n",
       " 'Parade',\n",
       " 'balloon',\n",
       " 'ropes',\n",
       " 'Merry',\n",
       " 'unhappily',\n",
       " 'boomers',\n",
       " 'entertainments',\n",
       " 'athletic',\n",
       " 'exploits',\n",
       " 'Charly',\n",
       " 'Pool',\n",
       " 'G.',\n",
       " 'Turturro',\n",
       " 'Myer',\n",
       " 'superheroics',\n",
       " 'three-ring',\n",
       " 'interact',\n",
       " 'Koshashvili',\n",
       " 'Efteriades',\n",
       " 'Ken',\n",
       " 'blinding',\n",
       " 'Seigner',\n",
       " 'Admirers',\n",
       " 'Undoubtedly',\n",
       " 'Hrs',\n",
       " 'Xiaoshuai',\n",
       " 'Sontag',\n",
       " 'Stern',\n",
       " 'surfaces',\n",
       " 'mantra',\n",
       " 'Making',\n",
       " 'convinces',\n",
       " 'Rogers',\n",
       " 'sexes',\n",
       " 'Bogdanich',\n",
       " 'fulfills',\n",
       " 'foo',\n",
       " 'yung',\n",
       " 'Fisk',\n",
       " 'Two-bit',\n",
       " 'Tunis',\n",
       " 'initiation',\n",
       " 'rite',\n",
       " 'Caviezel',\n",
       " 'Smarter',\n",
       " 'commercials',\n",
       " 'pegged',\n",
       " 'Opera',\n",
       " 'Humor',\n",
       " 'resolved',\n",
       " 'UB',\n",
       " 'Consummate',\n",
       " 'Painfully',\n",
       " 'Strictly',\n",
       " 'Jaglomized',\n",
       " 'annual',\n",
       " 'Riviera',\n",
       " 'spree',\n",
       " 'comin',\n",
       " 'ya',\n",
       " 'Horrible',\n",
       " 'Moves',\n",
       " 'demented-funny',\n",
       " 'Starship',\n",
       " 'Concubine',\n",
       " 'Jae-eun',\n",
       " 'Jeong',\n",
       " 'Depicts',\n",
       " 'flattens',\n",
       " 'wrinkles',\n",
       " 'do-over',\n",
       " 'Khouri',\n",
       " 'prechewed',\n",
       " 'action-thriller\\\\/dark',\n",
       " 'barbershop',\n",
       " 'Malone',\n",
       " 'swirl',\n",
       " 'Baby-faced',\n",
       " 'Komediant',\n",
       " 'Brett',\n",
       " 'unrequited',\n",
       " 'substituting',\n",
       " 'doodled',\n",
       " 'Steamboat',\n",
       " 'ou',\n",
       " 'Sling',\n",
       " 'Eventually',\n",
       " 'doe-eyed',\n",
       " 'Boomers',\n",
       " 'bonanza',\n",
       " 'Uzumaki',\n",
       " 'Girardot',\n",
       " 'Devoid',\n",
       " 'Scream',\n",
       " 'Parris',\n",
       " 'colonialism',\n",
       " 'masala',\n",
       " 'Snoots',\n",
       " 'borrowed',\n",
       " 'Chips',\n",
       " 'Block',\n",
       " 'Judging',\n",
       " 'Trey',\n",
       " 'Latino',\n",
       " 'Leaks',\n",
       " 'treacle',\n",
       " 'One-of-a-kind',\n",
       " 'remade',\n",
       " 'diapers',\n",
       " 'Mushes',\n",
       " 'triple-crosses',\n",
       " 'arise',\n",
       " 'Falls',\n",
       " 'Niccol',\n",
       " 'agreement',\n",
       " 'unexamined',\n",
       " 'digitally',\n",
       " 'Parts',\n",
       " 'Asks',\n",
       " 'antagonism',\n",
       " 'Jerusalem',\n",
       " 'Elmo',\n",
       " 'coke',\n",
       " '37-minute',\n",
       " 'Snowman',\n",
       " 'Smaller',\n",
       " 'kidlets',\n",
       " 'Coast',\n",
       " 'L',\n",
       " 'Worthy',\n",
       " 'Resembles',\n",
       " 'Bursting',\n",
       " 'K',\n",
       " 'Exceptionally',\n",
       " 'post-modern',\n",
       " 'all-French',\n",
       " 'Venus',\n",
       " 'Affectionately',\n",
       " 'Compassionately',\n",
       " 'Femme',\n",
       " 'consumers',\n",
       " 'McCracken',\n",
       " 'SO',\n",
       " 'Spiderman',\n",
       " 'ROCKS',\n",
       " 'lay',\n",
       " 'purports',\n",
       " 'time-it-is',\n",
       " 'Possibly',\n",
       " 'Sets',\n",
       " 'byplay',\n",
       " 'bickering',\n",
       " 'Juni',\n",
       " 'Sabara',\n",
       " 'Cortez',\n",
       " 'Melodrama',\n",
       " 'Deepa',\n",
       " 'Liyan',\n",
       " 'Tiger',\n",
       " 'psychiatrist',\n",
       " 'aiming',\n",
       " 'During',\n",
       " 'Orc',\n",
       " 'Uruk-Hai',\n",
       " 'Refreshing',\n",
       " 'Literary',\n",
       " 'completists',\n",
       " 'Katz',\n",
       " 'shifts',\n",
       " 'jolting',\n",
       " 'Griffin',\n",
       " 'Co.',\n",
       " 'meets-John',\n",
       " 'impressionable',\n",
       " 'incidents',\n",
       " 'Forages',\n",
       " 'anarchic',\n",
       " 'Well-made',\n",
       " 'hovering',\n",
       " 'Dramas',\n",
       " '70-year-old',\n",
       " 'Thornberry',\n",
       " 'parlance',\n",
       " 'Steinberg',\n",
       " 'forgivable',\n",
       " 'Sonnenfeld',\n",
       " 'spaniel-eyed',\n",
       " 'O.',\n",
       " 'Tres',\n",
       " 'Nia',\n",
       " 'impetuousness',\n",
       " 'Fangoria',\n",
       " 'CleanFlicks',\n",
       " 'MacGraw',\n",
       " 'Rover',\n",
       " 'Aptly',\n",
       " 'doofus-on',\n",
       " 'Claire',\n",
       " 'fundamentals',\n",
       " 'Reiner',\n",
       " 'dissipated',\n",
       " 'Well-meaning',\n",
       " 'Shohei',\n",
       " 'redux',\n",
       " 'Pap',\n",
       " 'Dafoe',\n",
       " 'mimetic',\n",
       " 'approximation',\n",
       " 'Armenia',\n",
       " 'Ivy',\n",
       " 'election',\n",
       " 'Rehearsals',\n",
       " 'recreated',\n",
       " 'elliptically',\n",
       " 'loops',\n",
       " 'began',\n",
       " 'theorizing',\n",
       " 'Fraser',\n",
       " 'glance',\n",
       " 'scattershot',\n",
       " 'scan',\n",
       " 'missteps',\n",
       " 'Lame',\n",
       " 'First-time',\n",
       " 'Especially',\n",
       " 'Seriously',\n",
       " 'Zeus',\n",
       " 'Fortunately',\n",
       " 'Feel',\n",
       " 'Clumsy',\n",
       " 'Catechism',\n",
       " 'Follows',\n",
       " 'co',\n",
       " 'unrelieved',\n",
       " 'Elie',\n",
       " 'co-wrote',\n",
       " 'winged',\n",
       " 'assailants',\n",
       " 'Purposefully',\n",
       " 'Iranian-American',\n",
       " '1979',\n",
       " 'forges',\n",
       " 'sisterly',\n",
       " 'martinet',\n",
       " 'instructor',\n",
       " 'tormentor',\n",
       " 'automatic',\n",
       " 'gunfire',\n",
       " 'Mulholland',\n",
       " 'harmlessly',\n",
       " 'off-season',\n",
       " 'parting',\n",
       " 'Nobody',\n",
       " 'Zoom',\n",
       " 'Lazily',\n",
       " 'Cirulnick',\n",
       " 'novelist',\n",
       " 'Thulani',\n",
       " 'Bond-inspired',\n",
       " 'Staggeringly',\n",
       " 'Ill-considered',\n",
       " 'Competently',\n",
       " 'Woefully',\n",
       " 'abundantly',\n",
       " 'Disgusting',\n",
       " 'Ryoko',\n",
       " 'Hirosue',\n",
       " 'culmination',\n",
       " 'Selection',\n",
       " 'Dance',\n",
       " 'Shattering',\n",
       " 'grooved',\n",
       " 'Campbell',\n",
       " 'annoyances']"
      ]
     },
     "execution_count": 17,
     "metadata": {},
     "output_type": "execute_result"
    }
   ],
   "source": [
    "rare_words"
   ]
  },
  {
   "cell_type": "markdown",
   "metadata": {},
   "source": [
    "* rare_words listesini data frame den atalim."
   ]
  },
  {
   "cell_type": "code",
   "execution_count": 18,
   "metadata": {},
   "outputs": [],
   "source": [
    "f=lambda x: ' '.join([w if w not in rare_words else '' for w in x.split()])\n",
    "df.Sentences=df.Sentences.apply(f)"
   ]
  },
  {
   "cell_type": "code",
   "execution_count": 19,
   "metadata": {},
   "outputs": [
    {
     "data": {
      "text/html": [
       "<div>\n",
       "<style scoped>\n",
       "    .dataframe tbody tr th:only-of-type {\n",
       "        vertical-align: middle;\n",
       "    }\n",
       "\n",
       "    .dataframe tbody tr th {\n",
       "        vertical-align: top;\n",
       "    }\n",
       "\n",
       "    .dataframe thead th {\n",
       "        text-align: right;\n",
       "    }\n",
       "</style>\n",
       "<table border=\"1\" class=\"dataframe\">\n",
       "  <thead>\n",
       "    <tr style=\"text-align: right;\">\n",
       "      <th></th>\n",
       "      <th>Sentences</th>\n",
       "      <th>Labels</th>\n",
       "    </tr>\n",
       "  </thead>\n",
       "  <tbody>\n",
       "    <tr>\n",
       "      <th>0</th>\n",
       "      <td>A series of  demonstrating the adage that what...</td>\n",
       "      <td>Negative</td>\n",
       "    </tr>\n",
       "    <tr>\n",
       "      <th>21</th>\n",
       "      <td>good for the goose</td>\n",
       "      <td>Positive</td>\n",
       "    </tr>\n",
       "    <tr>\n",
       "      <th>22</th>\n",
       "      <td>good</td>\n",
       "      <td>Positive</td>\n",
       "    </tr>\n",
       "    <tr>\n",
       "      <th>33</th>\n",
       "      <td>the gander , some of which occasionally amuses...</td>\n",
       "      <td>Negative</td>\n",
       "    </tr>\n",
       "    <tr>\n",
       "      <th>46</th>\n",
       "      <td>amuses</td>\n",
       "      <td>Positive</td>\n",
       "    </tr>\n",
       "  </tbody>\n",
       "</table>\n",
       "</div>"
      ],
      "text/plain": [
       "                                            Sentences    Labels\n",
       "0   A series of  demonstrating the adage that what...  Negative\n",
       "21                                 good for the goose  Positive\n",
       "22                                               good  Positive\n",
       "33  the gander , some of which occasionally amuses...  Negative\n",
       "46                                             amuses  Positive"
      ]
     },
     "execution_count": 19,
     "metadata": {},
     "output_type": "execute_result"
    }
   ],
   "source": [
    "df.head()"
   ]
  },
  {
   "cell_type": "markdown",
   "metadata": {},
   "source": [
    "**Text Processing**\n",
    "* Tokenization\n",
    "* cleaning punctuations\n",
    "* cleaning stopwords\n",
    "* lemma"
   ]
  },
  {
   "cell_type": "code",
   "execution_count": 20,
   "metadata": {},
   "outputs": [],
   "source": [
    "stop_words=stopwords.words('english')\n",
    "lem=WordNetLemmatizer()"
   ]
  },
  {
   "cell_type": "code",
   "execution_count": 21,
   "metadata": {},
   "outputs": [],
   "source": [
    "def cleaning(data):\n",
    "    #1. Tokenize\n",
    "    text_tokens=word_tokenize(data) \n",
    "    # Ozel isimlerle calismayacaksaniz, hepsini lowercase yapariz: word_tokenize(data.lower()) \n",
    "    \n",
    "    #2. Remove Punc\n",
    "    tokens_without_punc = [w for w in text_tokens if w.isalpha()]\n",
    "    \n",
    "    #3. Remove stopwords\n",
    "    tokens_without_sw = [t for t in tokens_without_punc if t not in stop_words]\n",
    "    \n",
    "    #4. Lemmatize\n",
    "    text_cleaned = [lem.lemmatize(t) for t in tokens_without_sw]\n",
    "    \n",
    "    #5. Joinning\n",
    "    return ' '.join(text_cleaned)"
   ]
  },
  {
   "cell_type": "code",
   "execution_count": 22,
   "metadata": {},
   "outputs": [
    {
     "data": {
      "text/html": [
       "<div>\n",
       "<style scoped>\n",
       "    .dataframe tbody tr th:only-of-type {\n",
       "        vertical-align: middle;\n",
       "    }\n",
       "\n",
       "    .dataframe tbody tr th {\n",
       "        vertical-align: top;\n",
       "    }\n",
       "\n",
       "    .dataframe thead th {\n",
       "        text-align: right;\n",
       "    }\n",
       "</style>\n",
       "<table border=\"1\" class=\"dataframe\">\n",
       "  <thead>\n",
       "    <tr style=\"text-align: right;\">\n",
       "      <th></th>\n",
       "      <th>Sentences</th>\n",
       "      <th>Labels</th>\n",
       "    </tr>\n",
       "  </thead>\n",
       "  <tbody>\n",
       "    <tr>\n",
       "      <th>0</th>\n",
       "      <td>A series demonstrating adage good goose also g...</td>\n",
       "      <td>Negative</td>\n",
       "    </tr>\n",
       "    <tr>\n",
       "      <th>21</th>\n",
       "      <td>good goose</td>\n",
       "      <td>Positive</td>\n",
       "    </tr>\n",
       "    <tr>\n",
       "      <th>22</th>\n",
       "      <td>good</td>\n",
       "      <td>Positive</td>\n",
       "    </tr>\n",
       "    <tr>\n",
       "      <th>33</th>\n",
       "      <td>gander occasionally amuses none amount much story</td>\n",
       "      <td>Negative</td>\n",
       "    </tr>\n",
       "    <tr>\n",
       "      <th>46</th>\n",
       "      <td>amuses</td>\n",
       "      <td>Positive</td>\n",
       "    </tr>\n",
       "  </tbody>\n",
       "</table>\n",
       "</div>"
      ],
      "text/plain": [
       "                                            Sentences    Labels\n",
       "0   A series demonstrating adage good goose also g...  Negative\n",
       "21                                         good goose  Positive\n",
       "22                                               good  Positive\n",
       "33  gander occasionally amuses none amount much story  Negative\n",
       "46                                             amuses  Positive"
      ]
     },
     "execution_count": 22,
     "metadata": {},
     "output_type": "execute_result"
    }
   ],
   "source": [
    "df['Sentences']=df['Sentences'].apply(cleaning)\n",
    "df.head()"
   ]
  },
  {
   "cell_type": "code",
   "execution_count": 23,
   "metadata": {},
   "outputs": [
    {
     "data": {
      "text/plain": [
       "'A series demonstrating adage good goose also good gander occasionally amuses none amount much story'"
      ]
     },
     "execution_count": 23,
     "metadata": {},
     "output_type": "execute_result"
    }
   ],
   "source": [
    "df.Sentences[0]"
   ]
  },
  {
   "cell_type": "markdown",
   "metadata": {},
   "source": [
    "* bazi bozuk veya romen rakamlari gibi ifadeler temizlenmediyse, rgex ile temizligi yapilir"
   ]
  },
  {
   "cell_type": "markdown",
   "metadata": {},
   "source": [
    "**Feature Engineering**\n",
    "* Count Vectors\n",
    "* TF-IDF Vectors\n",
    "* Word Embedding"
   ]
  },
  {
   "cell_type": "markdown",
   "metadata": {},
   "source": [
    "**Splitting Data**"
   ]
  },
  {
   "cell_type": "code",
   "execution_count": 24,
   "metadata": {},
   "outputs": [],
   "source": [
    "X=df['Sentences']\n",
    "y=df[\"Labels\"]\n",
    "\n",
    "X_train, X_test, y_train, y_test = train_test_split(X,y,test_size=0.3,random_state=42)"
   ]
  },
  {
   "cell_type": "code",
   "execution_count": 25,
   "metadata": {},
   "outputs": [
    {
     "data": {
      "text/plain": [
       "110319                                      mindless drivel\n",
       "16891                                  tired going man gone\n",
       "65038     notable largely overwhelming creepiness eagerness\n",
       "8038      But though scratch surface least provides stro...\n",
       "64644                                 There moment hilarity\n",
       "Name: Sentences, dtype: object"
      ]
     },
     "execution_count": 25,
     "metadata": {},
     "output_type": "execute_result"
    }
   ],
   "source": [
    "X_train.head()"
   ]
  },
  {
   "cell_type": "code",
   "execution_count": 26,
   "metadata": {},
   "outputs": [
    {
     "data": {
      "text/plain": [
       "110319    Negative\n",
       "16891     Negative\n",
       "65038     Positive\n",
       "8038      Positive\n",
       "64644     Positive\n",
       "Name: Labels, dtype: object"
      ]
     },
     "execution_count": 26,
     "metadata": {},
     "output_type": "execute_result"
    }
   ],
   "source": [
    "y_train.head()"
   ]
  },
  {
   "cell_type": "markdown",
   "metadata": {},
   "source": [
    "**LabelEncoder**"
   ]
  },
  {
   "cell_type": "code",
   "execution_count": 27,
   "metadata": {},
   "outputs": [],
   "source": [
    "# from sklearn.preprocessing import LabelEncoder\n",
    "encoder=LabelEncoder()\n",
    "y_train=encoder.fit_transform(y_train)\n",
    "y_test=encoder.transform(y_test)"
   ]
  },
  {
   "cell_type": "markdown",
   "metadata": {},
   "source": [
    "**Count Vectorization**\n",
    "* Apply to series not to df itself"
   ]
  },
  {
   "cell_type": "code",
   "execution_count": 28,
   "metadata": {},
   "outputs": [],
   "source": [
    "# from sklearn.feature_extraction.text import TfidfVectorizer, CountVectorizer\n",
    "vectorizer= CountVectorizer()\n",
    "X_train_vectorized=vectorizer.fit_transform(X_train)\n",
    "X_test_vectorized=vectorizer.transform(X_test)"
   ]
  },
  {
   "cell_type": "markdown",
   "metadata": {},
   "source": [
    "> Her row icin len(vectorizer.get_feature_names()) kadar columns olacak, ilgili kelime icin 1, geri kalanlar icin 0 yazacak"
   ]
  },
  {
   "cell_type": "code",
   "execution_count": 29,
   "metadata": {},
   "outputs": [
    {
     "data": {
      "text/plain": [
       "['aaa', 'aaliyah', 'abagnale', 'abandon', 'abandoned']"
      ]
     },
     "execution_count": 29,
     "metadata": {},
     "output_type": "execute_result"
    }
   ],
   "source": [
    "vectorizer.get_feature_names()[:5]"
   ]
  },
  {
   "cell_type": "code",
   "execution_count": 30,
   "metadata": {},
   "outputs": [
    {
     "data": {
      "text/plain": [
       "array([[0, 0, 0, ..., 0, 0, 0],\n",
       "       [0, 0, 0, ..., 0, 0, 0],\n",
       "       [0, 0, 0, ..., 0, 0, 0],\n",
       "       ...,\n",
       "       [0, 0, 0, ..., 0, 0, 0],\n",
       "       [0, 0, 0, ..., 0, 0, 0],\n",
       "       [0, 0, 0, ..., 0, 0, 0]], dtype=int64)"
      ]
     },
     "execution_count": 30,
     "metadata": {},
     "output_type": "execute_result"
    }
   ],
   "source": [
    "X_train_vectorized.toarray()"
   ]
  },
  {
   "cell_type": "code",
   "execution_count": 31,
   "metadata": {},
   "outputs": [
    {
     "data": {
      "text/html": [
       "<div>\n",
       "<style scoped>\n",
       "    .dataframe tbody tr th:only-of-type {\n",
       "        vertical-align: middle;\n",
       "    }\n",
       "\n",
       "    .dataframe tbody tr th {\n",
       "        vertical-align: top;\n",
       "    }\n",
       "\n",
       "    .dataframe thead th {\n",
       "        text-align: right;\n",
       "    }\n",
       "</style>\n",
       "<table border=\"1\" class=\"dataframe\">\n",
       "  <thead>\n",
       "    <tr style=\"text-align: right;\">\n",
       "      <th></th>\n",
       "      <th>0</th>\n",
       "      <th>1</th>\n",
       "      <th>2</th>\n",
       "      <th>3</th>\n",
       "      <th>4</th>\n",
       "      <th>5</th>\n",
       "      <th>6</th>\n",
       "      <th>7</th>\n",
       "      <th>8</th>\n",
       "      <th>9</th>\n",
       "      <th>...</th>\n",
       "      <th>12648</th>\n",
       "      <th>12649</th>\n",
       "      <th>12650</th>\n",
       "      <th>12651</th>\n",
       "      <th>12652</th>\n",
       "      <th>12653</th>\n",
       "      <th>12654</th>\n",
       "      <th>12655</th>\n",
       "      <th>12656</th>\n",
       "      <th>12657</th>\n",
       "    </tr>\n",
       "  </thead>\n",
       "  <tbody>\n",
       "    <tr>\n",
       "      <th>53529</th>\n",
       "      <td>0</td>\n",
       "      <td>0</td>\n",
       "      <td>0</td>\n",
       "      <td>0</td>\n",
       "      <td>0</td>\n",
       "      <td>0</td>\n",
       "      <td>0</td>\n",
       "      <td>0</td>\n",
       "      <td>0</td>\n",
       "      <td>0</td>\n",
       "      <td>...</td>\n",
       "      <td>0</td>\n",
       "      <td>0</td>\n",
       "      <td>0</td>\n",
       "      <td>0</td>\n",
       "      <td>0</td>\n",
       "      <td>0</td>\n",
       "      <td>0</td>\n",
       "      <td>0</td>\n",
       "      <td>0</td>\n",
       "      <td>0</td>\n",
       "    </tr>\n",
       "    <tr>\n",
       "      <th>53530</th>\n",
       "      <td>0</td>\n",
       "      <td>0</td>\n",
       "      <td>0</td>\n",
       "      <td>0</td>\n",
       "      <td>0</td>\n",
       "      <td>0</td>\n",
       "      <td>0</td>\n",
       "      <td>0</td>\n",
       "      <td>0</td>\n",
       "      <td>0</td>\n",
       "      <td>...</td>\n",
       "      <td>0</td>\n",
       "      <td>0</td>\n",
       "      <td>0</td>\n",
       "      <td>0</td>\n",
       "      <td>0</td>\n",
       "      <td>0</td>\n",
       "      <td>0</td>\n",
       "      <td>0</td>\n",
       "      <td>0</td>\n",
       "      <td>0</td>\n",
       "    </tr>\n",
       "    <tr>\n",
       "      <th>53531</th>\n",
       "      <td>0</td>\n",
       "      <td>0</td>\n",
       "      <td>0</td>\n",
       "      <td>0</td>\n",
       "      <td>0</td>\n",
       "      <td>0</td>\n",
       "      <td>0</td>\n",
       "      <td>0</td>\n",
       "      <td>0</td>\n",
       "      <td>0</td>\n",
       "      <td>...</td>\n",
       "      <td>0</td>\n",
       "      <td>0</td>\n",
       "      <td>0</td>\n",
       "      <td>0</td>\n",
       "      <td>0</td>\n",
       "      <td>0</td>\n",
       "      <td>0</td>\n",
       "      <td>0</td>\n",
       "      <td>0</td>\n",
       "      <td>0</td>\n",
       "    </tr>\n",
       "    <tr>\n",
       "      <th>53532</th>\n",
       "      <td>0</td>\n",
       "      <td>0</td>\n",
       "      <td>0</td>\n",
       "      <td>0</td>\n",
       "      <td>0</td>\n",
       "      <td>0</td>\n",
       "      <td>0</td>\n",
       "      <td>0</td>\n",
       "      <td>0</td>\n",
       "      <td>0</td>\n",
       "      <td>...</td>\n",
       "      <td>0</td>\n",
       "      <td>0</td>\n",
       "      <td>0</td>\n",
       "      <td>0</td>\n",
       "      <td>0</td>\n",
       "      <td>0</td>\n",
       "      <td>0</td>\n",
       "      <td>0</td>\n",
       "      <td>0</td>\n",
       "      <td>0</td>\n",
       "    </tr>\n",
       "    <tr>\n",
       "      <th>53533</th>\n",
       "      <td>0</td>\n",
       "      <td>0</td>\n",
       "      <td>0</td>\n",
       "      <td>0</td>\n",
       "      <td>0</td>\n",
       "      <td>0</td>\n",
       "      <td>0</td>\n",
       "      <td>0</td>\n",
       "      <td>0</td>\n",
       "      <td>0</td>\n",
       "      <td>...</td>\n",
       "      <td>0</td>\n",
       "      <td>0</td>\n",
       "      <td>0</td>\n",
       "      <td>0</td>\n",
       "      <td>0</td>\n",
       "      <td>0</td>\n",
       "      <td>0</td>\n",
       "      <td>0</td>\n",
       "      <td>0</td>\n",
       "      <td>0</td>\n",
       "    </tr>\n",
       "  </tbody>\n",
       "</table>\n",
       "<p>5 rows × 12658 columns</p>\n",
       "</div>"
      ],
      "text/plain": [
       "       0      1      2      3      4      5      6      7      8      9      \\\n",
       "53529      0      0      0      0      0      0      0      0      0      0   \n",
       "53530      0      0      0      0      0      0      0      0      0      0   \n",
       "53531      0      0      0      0      0      0      0      0      0      0   \n",
       "53532      0      0      0      0      0      0      0      0      0      0   \n",
       "53533      0      0      0      0      0      0      0      0      0      0   \n",
       "\n",
       "       ...  12648  12649  12650  12651  12652  12653  12654  12655  12656  \\\n",
       "53529  ...      0      0      0      0      0      0      0      0      0   \n",
       "53530  ...      0      0      0      0      0      0      0      0      0   \n",
       "53531  ...      0      0      0      0      0      0      0      0      0   \n",
       "53532  ...      0      0      0      0      0      0      0      0      0   \n",
       "53533  ...      0      0      0      0      0      0      0      0      0   \n",
       "\n",
       "       12657  \n",
       "53529      0  \n",
       "53530      0  \n",
       "53531      0  \n",
       "53532      0  \n",
       "53533      0  \n",
       "\n",
       "[5 rows x 12658 columns]"
      ]
     },
     "execution_count": 31,
     "metadata": {},
     "output_type": "execute_result"
    }
   ],
   "source": [
    "pd.DataFrame(X_train_vectorized.toarray()).tail(5)"
   ]
  },
  {
   "cell_type": "code",
   "execution_count": 32,
   "metadata": {},
   "outputs": [],
   "source": [
    "# pd.DataFrame(X_train_vectorized.toarray(),columns=vectorizer.get_feature_names())"
   ]
  },
  {
   "cell_type": "code",
   "execution_count": 33,
   "metadata": {},
   "outputs": [],
   "source": [
    "# pd.set_option('display.max_columns',10000)"
   ]
  },
  {
   "cell_type": "markdown",
   "metadata": {},
   "source": [
    "**TF-IDF**"
   ]
  },
  {
   "cell_type": "code",
   "execution_count": 34,
   "metadata": {},
   "outputs": [],
   "source": [
    "tf_idf_vectorizer=TfidfVectorizer()\n",
    "X_train_tf_idf = tf_idf_vectorizer.fit_transform(X_train)\n",
    "X_test_tf_idf = tf_idf_vectorizer.transform(X_test)"
   ]
  },
  {
   "cell_type": "code",
   "execution_count": 35,
   "metadata": {},
   "outputs": [
    {
     "data": {
      "text/html": [
       "<div>\n",
       "<style scoped>\n",
       "    .dataframe tbody tr th:only-of-type {\n",
       "        vertical-align: middle;\n",
       "    }\n",
       "\n",
       "    .dataframe tbody tr th {\n",
       "        vertical-align: top;\n",
       "    }\n",
       "\n",
       "    .dataframe thead th {\n",
       "        text-align: right;\n",
       "    }\n",
       "</style>\n",
       "<table border=\"1\" class=\"dataframe\">\n",
       "  <thead>\n",
       "    <tr style=\"text-align: right;\">\n",
       "      <th></th>\n",
       "      <th>0</th>\n",
       "      <th>1</th>\n",
       "      <th>2</th>\n",
       "      <th>3</th>\n",
       "      <th>4</th>\n",
       "      <th>5</th>\n",
       "      <th>6</th>\n",
       "      <th>7</th>\n",
       "      <th>8</th>\n",
       "      <th>9</th>\n",
       "      <th>...</th>\n",
       "      <th>12648</th>\n",
       "      <th>12649</th>\n",
       "      <th>12650</th>\n",
       "      <th>12651</th>\n",
       "      <th>12652</th>\n",
       "      <th>12653</th>\n",
       "      <th>12654</th>\n",
       "      <th>12655</th>\n",
       "      <th>12656</th>\n",
       "      <th>12657</th>\n",
       "    </tr>\n",
       "  </thead>\n",
       "  <tbody>\n",
       "    <tr>\n",
       "      <th>0</th>\n",
       "      <td>0.0</td>\n",
       "      <td>0.0</td>\n",
       "      <td>0.0</td>\n",
       "      <td>0.0</td>\n",
       "      <td>0.0</td>\n",
       "      <td>0.0</td>\n",
       "      <td>0.0</td>\n",
       "      <td>0.0</td>\n",
       "      <td>0.0</td>\n",
       "      <td>0.0</td>\n",
       "      <td>...</td>\n",
       "      <td>0.0</td>\n",
       "      <td>0.0</td>\n",
       "      <td>0.0</td>\n",
       "      <td>0.0</td>\n",
       "      <td>0.0</td>\n",
       "      <td>0.0</td>\n",
       "      <td>0.0</td>\n",
       "      <td>0.0</td>\n",
       "      <td>0.0</td>\n",
       "      <td>0.0</td>\n",
       "    </tr>\n",
       "    <tr>\n",
       "      <th>1</th>\n",
       "      <td>0.0</td>\n",
       "      <td>0.0</td>\n",
       "      <td>0.0</td>\n",
       "      <td>0.0</td>\n",
       "      <td>0.0</td>\n",
       "      <td>0.0</td>\n",
       "      <td>0.0</td>\n",
       "      <td>0.0</td>\n",
       "      <td>0.0</td>\n",
       "      <td>0.0</td>\n",
       "      <td>...</td>\n",
       "      <td>0.0</td>\n",
       "      <td>0.0</td>\n",
       "      <td>0.0</td>\n",
       "      <td>0.0</td>\n",
       "      <td>0.0</td>\n",
       "      <td>0.0</td>\n",
       "      <td>0.0</td>\n",
       "      <td>0.0</td>\n",
       "      <td>0.0</td>\n",
       "      <td>0.0</td>\n",
       "    </tr>\n",
       "    <tr>\n",
       "      <th>2</th>\n",
       "      <td>0.0</td>\n",
       "      <td>0.0</td>\n",
       "      <td>0.0</td>\n",
       "      <td>0.0</td>\n",
       "      <td>0.0</td>\n",
       "      <td>0.0</td>\n",
       "      <td>0.0</td>\n",
       "      <td>0.0</td>\n",
       "      <td>0.0</td>\n",
       "      <td>0.0</td>\n",
       "      <td>...</td>\n",
       "      <td>0.0</td>\n",
       "      <td>0.0</td>\n",
       "      <td>0.0</td>\n",
       "      <td>0.0</td>\n",
       "      <td>0.0</td>\n",
       "      <td>0.0</td>\n",
       "      <td>0.0</td>\n",
       "      <td>0.0</td>\n",
       "      <td>0.0</td>\n",
       "      <td>0.0</td>\n",
       "    </tr>\n",
       "    <tr>\n",
       "      <th>3</th>\n",
       "      <td>0.0</td>\n",
       "      <td>0.0</td>\n",
       "      <td>0.0</td>\n",
       "      <td>0.0</td>\n",
       "      <td>0.0</td>\n",
       "      <td>0.0</td>\n",
       "      <td>0.0</td>\n",
       "      <td>0.0</td>\n",
       "      <td>0.0</td>\n",
       "      <td>0.0</td>\n",
       "      <td>...</td>\n",
       "      <td>0.0</td>\n",
       "      <td>0.0</td>\n",
       "      <td>0.0</td>\n",
       "      <td>0.0</td>\n",
       "      <td>0.0</td>\n",
       "      <td>0.0</td>\n",
       "      <td>0.0</td>\n",
       "      <td>0.0</td>\n",
       "      <td>0.0</td>\n",
       "      <td>0.0</td>\n",
       "    </tr>\n",
       "    <tr>\n",
       "      <th>4</th>\n",
       "      <td>0.0</td>\n",
       "      <td>0.0</td>\n",
       "      <td>0.0</td>\n",
       "      <td>0.0</td>\n",
       "      <td>0.0</td>\n",
       "      <td>0.0</td>\n",
       "      <td>0.0</td>\n",
       "      <td>0.0</td>\n",
       "      <td>0.0</td>\n",
       "      <td>0.0</td>\n",
       "      <td>...</td>\n",
       "      <td>0.0</td>\n",
       "      <td>0.0</td>\n",
       "      <td>0.0</td>\n",
       "      <td>0.0</td>\n",
       "      <td>0.0</td>\n",
       "      <td>0.0</td>\n",
       "      <td>0.0</td>\n",
       "      <td>0.0</td>\n",
       "      <td>0.0</td>\n",
       "      <td>0.0</td>\n",
       "    </tr>\n",
       "  </tbody>\n",
       "</table>\n",
       "<p>5 rows × 12658 columns</p>\n",
       "</div>"
      ],
      "text/plain": [
       "   0      1      2      3      4      5      6      7      8      9      ...  \\\n",
       "0    0.0    0.0    0.0    0.0    0.0    0.0    0.0    0.0    0.0    0.0  ...   \n",
       "1    0.0    0.0    0.0    0.0    0.0    0.0    0.0    0.0    0.0    0.0  ...   \n",
       "2    0.0    0.0    0.0    0.0    0.0    0.0    0.0    0.0    0.0    0.0  ...   \n",
       "3    0.0    0.0    0.0    0.0    0.0    0.0    0.0    0.0    0.0    0.0  ...   \n",
       "4    0.0    0.0    0.0    0.0    0.0    0.0    0.0    0.0    0.0    0.0  ...   \n",
       "\n",
       "   12648  12649  12650  12651  12652  12653  12654  12655  12656  12657  \n",
       "0    0.0    0.0    0.0    0.0    0.0    0.0    0.0    0.0    0.0    0.0  \n",
       "1    0.0    0.0    0.0    0.0    0.0    0.0    0.0    0.0    0.0    0.0  \n",
       "2    0.0    0.0    0.0    0.0    0.0    0.0    0.0    0.0    0.0    0.0  \n",
       "3    0.0    0.0    0.0    0.0    0.0    0.0    0.0    0.0    0.0    0.0  \n",
       "4    0.0    0.0    0.0    0.0    0.0    0.0    0.0    0.0    0.0    0.0  \n",
       "\n",
       "[5 rows x 12658 columns]"
      ]
     },
     "execution_count": 35,
     "metadata": {},
     "output_type": "execute_result"
    }
   ],
   "source": [
    "pd.DataFrame(X_train_tf_idf.toarray()).head(5)"
   ]
  },
  {
   "cell_type": "markdown",
   "metadata": {},
   "source": [
    "> float deger uretti!"
   ]
  },
  {
   "cell_type": "code",
   "execution_count": 36,
   "metadata": {},
   "outputs": [],
   "source": [
    "# pd.DataFrame(X_train_tf_idf.toarray(),columns=vectorizer.get_feature_names()).sum().sort_values(ascending=False)"
   ]
  },
  {
   "cell_type": "code",
   "execution_count": 37,
   "metadata": {},
   "outputs": [],
   "source": [
    "# pd.DataFrame(X_train_tf_idf.toarray(),columns=vectorizer.get_feature_names()).max() #TF*IDF degerleri"
   ]
  },
  {
   "cell_type": "markdown",
   "metadata": {},
   "source": [
    "* NLP calismalari genelde DataFrame uzerinde yapilir.\n",
    "* Sentiment Analiz icin gerekli cleaning islemlerini yaptik \n",
    "* TFIDF weight is a statistical measure used to evaluate how important a word is to a document in a collection or corpus.\n",
    "* TF-IDF are word frequency scores that try to highlight words that are more interesting\n",
    "* kelimenin document ta cok gecmesi, corpus ta az gecmesi TF*IDF degerini artirir."
   ]
  },
  {
   "cell_type": "markdown",
   "metadata": {},
   "source": [
    "## Sentiment Classification"
   ]
  },
  {
   "cell_type": "code",
   "execution_count": 120,
   "metadata": {},
   "outputs": [],
   "source": [
    "from xgboost import XGBClassifier\n",
    "from sklearn.ensemble import RandomForestClassifier\n",
    "from sklearn.model_selection import GridSearchCV, RandomizedSearchCV\n",
    "from sklearn.neighbors import KNeighborsClassifier"
   ]
  },
  {
   "cell_type": "markdown",
   "metadata": {},
   "source": [
    "### 1-Logistic Regression"
   ]
  },
  {
   "cell_type": "code",
   "execution_count": 42,
   "metadata": {},
   "outputs": [
    {
     "name": "stderr",
     "output_type": "stream",
     "text": [
      "C:\\Users\\fatih\\Anaconda3\\lib\\site-packages\\sklearn\\linear_model\\_logistic.py:762: ConvergenceWarning: lbfgs failed to converge (status=1):\n",
      "STOP: TOTAL NO. of ITERATIONS REACHED LIMIT.\n",
      "\n",
      "Increase the number of iterations (max_iter) or scale the data as shown in:\n",
      "    https://scikit-learn.org/stable/modules/preprocessing.html\n",
      "Please also refer to the documentation for alternative solver options:\n",
      "    https://scikit-learn.org/stable/modules/linear_model.html#logistic-regression\n",
      "  n_iter_i = _check_optimize_result(\n"
     ]
    }
   ],
   "source": [
    "log_model=LogisticRegression()\n",
    "log_model.fit(X_train_vectorized,y_train)\n",
    "y_pred=log_model.predict(X_test_vectorized)"
   ]
  },
  {
   "cell_type": "code",
   "execution_count": 43,
   "metadata": {},
   "outputs": [
    {
     "name": "stdout",
     "output_type": "stream",
     "text": [
      "Confusion Matrix:\n",
      "[8546 1693]\n",
      "[ 1232 11473]\n",
      "              precision    recall  f1-score   support\n",
      "\n",
      "           0       0.87      0.83      0.85     10239\n",
      "           1       0.87      0.90      0.89     12705\n",
      "\n",
      "    accuracy                           0.87     22944\n",
      "   macro avg       0.87      0.87      0.87     22944\n",
      "weighted avg       0.87      0.87      0.87     22944\n",
      "\n"
     ]
    }
   ],
   "source": [
    "print('Confusion Matrix:',*confusion_matrix(y_test,y_pred), sep=\"\\n\")\n",
    "print(classification_report(y_test, y_pred))"
   ]
  },
  {
   "cell_type": "code",
   "execution_count": 44,
   "metadata": {},
   "outputs": [
    {
     "data": {
      "image/png": "[encoded data removed]",
      "text/plain": [
       "<Figure size 432x288 with 2 Axes>"
      ]
     },
     "metadata": {
      "needs_background": "light"
     },
     "output_type": "display_data"
    }
   ],
   "source": [
    "sns.heatmap(confusion_matrix(y_test,y_pred), annot=True, cmap=\"YlGnBu\",fmt='d')\n",
    "plt.ylabel('Actual Label')\n",
    "plt.xlabel('Predicted Label');"
   ]
  },
  {
   "cell_type": "code",
   "execution_count": 45,
   "metadata": {},
   "outputs": [],
   "source": [
    "# # Alternative\n",
    "# from sklearn.metrics import plot_confusion_matrix\n",
    "# plot_confusion_matrix(log_model,X_test_vectorized,y_test);"
   ]
  },
  {
   "cell_type": "code",
   "execution_count": 71,
   "metadata": {},
   "outputs": [
    {
     "name": "stdout",
     "output_type": "stream",
     "text": [
      "log_accuracy: 0.8725156903765691 \n",
      "log_f1_score: 0.7170733187968891\n"
     ]
    }
   ],
   "source": [
    "log_accuracy = log_model.score(X_test_vectorized,y_test)\n",
    "log_f1_score = f1_score(y_test, y_pred, average='macro')\n",
    "print('log_accuracy:',log_accuracy,\n",
    "      '\\nlog_f1_score:',log_f1_score)"
   ]
  },
  {
   "cell_type": "markdown",
   "metadata": {},
   "source": [
    "### 2-Random Forest"
   ]
  },
  {
   "cell_type": "code",
   "execution_count": 115,
   "metadata": {},
   "outputs": [],
   "source": [
    "rf_model=RandomForestClassifier()\n",
    "rf_model.fit(X_train_vectorized, y_train)\n",
    "y_pred = rf_model.predict(X_test_vectorized)"
   ]
  },
  {
   "cell_type": "code",
   "execution_count": 116,
   "metadata": {},
   "outputs": [
    {
     "name": "stdout",
     "output_type": "stream",
     "text": [
      "Confusion Matrix:\n",
      "[8696 1543]\n",
      "[ 1080 11625]\n",
      "              precision    recall  f1-score   support\n",
      "\n",
      "           0       0.89      0.85      0.87     10239\n",
      "           1       0.88      0.91      0.90     12705\n",
      "\n",
      "    accuracy                           0.89     22944\n",
      "   macro avg       0.89      0.88      0.88     22944\n",
      "weighted avg       0.89      0.89      0.89     22944\n",
      "\n"
     ]
    }
   ],
   "source": [
    "print('Confusion Matrix:',*confusion_matrix(y_test,y_pred), sep=\"\\n\")\n",
    "print(classification_report(y_test, y_pred))"
   ]
  },
  {
   "cell_type": "code",
   "execution_count": 119,
   "metadata": {},
   "outputs": [
    {
     "name": "stdout",
     "output_type": "stream",
     "text": [
      "rfc_accuracy: 0.8856781729428173 \n",
      "rfc_f1_score: 0.8837842359929895\n"
     ]
    }
   ],
   "source": [
    "rfc_accuracy = rf_model.score(X_test_vectorized,y_test)\n",
    "rfc_f1_score = f1_score(y_test, y_pred, average='macro')\n",
    "print('rfc_accuracy:',rfc_accuracy,\n",
    "      '\\nrfc_f1_score:',rfc_f1_score)"
   ]
  },
  {
   "cell_type": "markdown",
   "metadata": {},
   "source": [
    "### 3-XGBOOST"
   ]
  },
  {
   "cell_type": "code",
   "execution_count": 57,
   "metadata": {},
   "outputs": [],
   "source": [
    "xgb_model = XGBClassifier()\n",
    "xgb_model.fit(X_train_vectorized, y_train)\n",
    "\n",
    "y_pred = xgb_model.predict(X_test_vectorized)"
   ]
  },
  {
   "cell_type": "code",
   "execution_count": 58,
   "metadata": {},
   "outputs": [
    {
     "name": "stdout",
     "output_type": "stream",
     "text": [
      "Confusion Matrix:\n",
      "[4917 5322]\n",
      "[  771 11934]\n",
      "              precision    recall  f1-score   support\n",
      "\n",
      "           0       0.86      0.48      0.62     10239\n",
      "           1       0.69      0.94      0.80     12705\n",
      "\n",
      "    accuracy                           0.73     22944\n",
      "   macro avg       0.78      0.71      0.71     22944\n",
      "weighted avg       0.77      0.73      0.72     22944\n",
      "\n"
     ]
    }
   ],
   "source": [
    "print('Confusion Matrix:',*confusion_matrix(y_test,y_pred), sep=\"\\n\")\n",
    "print(classification_report(y_test, y_pred))"
   ]
  },
  {
   "cell_type": "code",
   "execution_count": 59,
   "metadata": {},
   "outputs": [
    {
     "data": {
      "image/png": "[encoded data removed]",
      "text/plain": [
       "<Figure size 600x400 with 2 Axes>"
      ]
     },
     "metadata": {},
     "output_type": "display_data"
    }
   ],
   "source": [
    "sns.heatmap(confusion_matrix(y_test,y_pred), annot=True, cmap=\"YlGnBu\",fmt='d')\n",
    "plt.ylabel('Actual Label')\n",
    "plt.xlabel('Predicted Label');"
   ]
  },
  {
   "cell_type": "markdown",
   "metadata": {},
   "source": [
    "**Tunning XGBOOST**"
   ]
  },
  {
   "cell_type": "code",
   "execution_count": 61,
   "metadata": {},
   "outputs": [],
   "source": [
    "xgb = XGBClassifier()"
   ]
  },
  {
   "cell_type": "code",
   "execution_count": 62,
   "metadata": {},
   "outputs": [],
   "source": [
    "xgb_params = {\"n_estimators\": [50, 100, 300,500],\n",
    "             \"subsample\":[0.5,0.8,1],\n",
    "             \"max_depth\":[3,5,7],\n",
    "             \"learning_rate\":[0.1,0.01,0.3]}"
   ]
  },
  {
   "cell_type": "code",
   "execution_count": 63,
   "metadata": {},
   "outputs": [
    {
     "name": "stdout",
     "output_type": "stream",
     "text": [
      "Fitting 5 folds for each of 10 candidates, totalling 50 fits\n"
     ]
    },
    {
     "name": "stderr",
     "output_type": "stream",
     "text": [
      "[Parallel(n_jobs=-1)]: Using backend LokyBackend with 8 concurrent workers.\n",
      "[Parallel(n_jobs=-1)]: Done  25 tasks      | elapsed:   34.9s\n",
      "[Parallel(n_jobs=-1)]: Done  50 out of  50 | elapsed:   53.6s finished\n"
     ]
    }
   ],
   "source": [
    "xgb_grid= RandomizedSearchCV(xgb, xgb_params, cv = 5,\n",
    "                             n_iter=10,\n",
    "                            n_jobs = -1, verbose = 2,scoring='f1').fit(X_train_vectorized, y_train)"
   ]
  },
  {
   "cell_type": "code",
   "execution_count": 64,
   "metadata": {},
   "outputs": [
    {
     "data": {
      "text/plain": [
       "{'subsample': 0.8, 'n_estimators': 300, 'max_depth': 7, 'learning_rate': 0.1}"
      ]
     },
     "execution_count": 64,
     "metadata": {},
     "output_type": "execute_result"
    }
   ],
   "source": [
    "xgb_grid.best_params_"
   ]
  },
  {
   "cell_type": "code",
   "execution_count": 110,
   "metadata": {},
   "outputs": [],
   "source": [
    "xgb_tuned = XGBClassifier(learning_rate= 1, \n",
    "                                max_depth= 100, \n",
    "                                n_estimators= 1000,\n",
    "                                subsample= 1).fit(X_train_vectorized, y_train)"
   ]
  },
  {
   "cell_type": "code",
   "execution_count": 111,
   "metadata": {},
   "outputs": [
    {
     "name": "stdout",
     "output_type": "stream",
     "text": [
      "              precision    recall  f1-score   support\n",
      "\n",
      "           0       0.84      0.89      0.86     10239\n",
      "           1       0.91      0.86      0.88     12705\n",
      "\n",
      "    accuracy                           0.87     22944\n",
      "   macro avg       0.87      0.87      0.87     22944\n",
      "weighted avg       0.87      0.87      0.87     22944\n",
      "\n"
     ]
    }
   ],
   "source": [
    "y_pred = xgb_tuned.predict(X_test_vectorized)\n",
    "print(classification_report(y_test, y_pred))"
   ]
  },
  {
   "cell_type": "code",
   "execution_count": 112,
   "metadata": {},
   "outputs": [
    {
     "name": "stdout",
     "output_type": "stream",
     "text": [
      "xgb_accuracy: 0.8726464435146444 \n",
      "xgb_f1_score: 0.8718418142190507\n"
     ]
    }
   ],
   "source": [
    "xgb_accuracy = accuracy_score(y_test, y_pred)\n",
    "xgb_f1_score = f1_score(y_test, y_pred, average='macro')\n",
    "print('xgb_accuracy:',xgb_accuracy,\n",
    "      '\\nxgb_f1_score:',xgb_f1_score)"
   ]
  },
  {
   "cell_type": "markdown",
   "metadata": {},
   "source": [
    "# ``Accuracy & F1 Score Comparison``"
   ]
  },
  {
   "cell_type": "code",
   "execution_count": 181,
   "metadata": {},
   "outputs": [
    {
     "data": {
      "image/png": "[encoded data removed]",
      "text/plain": [
       "<Figure size 600x400 with 1 Axes>"
      ]
     },
     "metadata": {},
     "output_type": "display_data"
    },
    {
     "data": {
      "image/png": "[encoded data removed]",
      "text/plain": [
       "<Figure size 600x400 with 1 Axes>"
      ]
     },
     "metadata": {},
     "output_type": "display_data"
    }
   ],
   "source": [
    "compare = pd.DataFrame({\"Model\": [\"Random Forest\", \"XGBoost\",\"Logistic Regression\"],\n",
    "                        \"Accuracy\": [rfc_accuracy, xgb_accuracy, log_accuracy],\n",
    "                        \"F1 Score\": [rfc_f1_score, xgb_f1_score, log_f1_score]})\n",
    "\n",
    "def labels(ax):\n",
    "    for p in ax.patches:\n",
    "        width = p.get_width()    # get bar length\n",
    "        ax.text(width,       # set the text at 1 unit right of the bar\n",
    "                p.get_y() + p.get_height() / 2, # get Y coordinate + X coordinate / 2\n",
    "                '{:1.2f}'.format(width), # set variable to display, 2 decimals\n",
    "                ha = 'left',   # horizontal alignment\n",
    "                va = 'center')  # vertical alignment\n",
    "    \n",
    "plt.subplot(211)\n",
    "compare = compare.sort_values(by=\"Accuracy\", ascending=False)\n",
    "ax=sns.barplot(x=\"Accuracy\", y=\"Model\", data=compare, palette=\"Blues_d\")\n",
    "labels(ax)\n",
    "plt.show()\n",
    "\n",
    "plt.subplot(212)\n",
    "compare = compare.sort_values(by=\"F1 Score\", ascending=False)\n",
    "ax=sns.barplot(x=\"F1 Score\", y=\"Model\", data=compare, palette=\"Blues_d\")\n",
    "labels(ax)\n",
    "plt.show()"
   ]
  },
  {
   "cell_type": "code",
   "execution_count": null,
   "metadata": {},
   "outputs": [],
   "source": []
  }
 ],
 "metadata": {
  "kernelspec": {
   "display_name": "Python 3",
   "language": "python",
   "name": "python3"
  },
  "language_info": {
   "codemirror_mode": {
    "name": "ipython",
    "version": 3
   },
   "file_extension": ".py",
   "mimetype": "text/x-python",
   "name": "python",
   "nbconvert_exporter": "python",
   "pygments_lexer": "ipython3",
   "version": "3.8.5"
  }
 },
 "nbformat": 4,
 "nbformat_minor": 4
}
