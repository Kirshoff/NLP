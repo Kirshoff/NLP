{
 "cells": [
  {
   "cell_type": "markdown",
   "metadata": {},
   "source": [
    "# NLP"
   ]
  },
  {
   "cell_type": "code",
   "execution_count": 40,
   "metadata": {},
   "outputs": [
    {
     "name": "stderr",
     "output_type": "stream",
     "text": [
      "[nltk_data] Downloading package stopwords to\n",
      "[nltk_data]     C:\\Users\\fatih\\AppData\\Roaming\\nltk_data...\n",
      "[nltk_data]   Package stopwords is already up-to-date!\n",
      "[nltk_data] Downloading package punkt to\n",
      "[nltk_data]     C:\\Users\\fatih\\AppData\\Roaming\\nltk_data...\n",
      "[nltk_data]   Package punkt is already up-to-date!\n",
      "[nltk_data] Downloading package wordnet to\n",
      "[nltk_data]     C:\\Users\\fatih\\AppData\\Roaming\\nltk_data...\n",
      "[nltk_data]   Unzipping corpora\\wordnet.zip.\n"
     ]
    },
    {
     "data": {
      "text/plain": [
       "True"
      ]
     },
     "execution_count": 40,
     "metadata": {},
     "output_type": "execute_result"
    }
   ],
   "source": [
    "from nltk.tokenize import sent_tokenize, word_tokenize\n",
    "from nltk.corpus import stopwords\n",
    "from nltk.stem import WordNetLemmatizer\n",
    "from nltk.stem import PorterStemmer\n",
    "from collections import Counter\n",
    "import pandas as pd\n",
    "\n",
    "import nltk\n",
    "nltk.download('stopwords')\n",
    "nltk.download('punkt')\n",
    "nltk.download('wordnet')"
   ]
  },
  {
   "cell_type": "code",
   "execution_count": 8,
   "metadata": {},
   "outputs": [],
   "source": [
    "stop_words=stopwords.words('english')"
   ]
  },
  {
   "cell_type": "code",
   "execution_count": 31,
   "metadata": {},
   "outputs": [],
   "source": [
    "sample_text=\"1. Oh man, this is pretty cool. We will do more such things.\""
   ]
  },
  {
   "cell_type": "markdown",
   "metadata": {},
   "source": [
    "**Tokenization**"
   ]
  },
  {
   "cell_type": "code",
   "execution_count": 32,
   "metadata": {},
   "outputs": [
    {
     "name": "stdout",
     "output_type": "stream",
     "text": [
      "['1.', 'oh', 'man', ',', 'this', 'is', 'pretty', 'cool', '.', 'we', 'will', 'do', 'more', 'such', 'things', '.']\n"
     ]
    }
   ],
   "source": [
    "text_tokens=word_tokenize(sample_text.lower())\n",
    "print(text_tokens)"
   ]
  },
  {
   "cell_type": "markdown",
   "metadata": {},
   "source": [
    "**Removing Punctuations and Numbers**"
   ]
  },
  {
   "cell_type": "code",
   "execution_count": 33,
   "metadata": {},
   "outputs": [
    {
     "name": "stdout",
     "output_type": "stream",
     "text": [
      "['oh', 'man', 'this', 'is', 'pretty', 'cool', 'we', 'will', 'do', 'more', 'such', 'things']\n"
     ]
    }
   ],
   "source": [
    "tokens_without_punc=[w for w in text_tokens if w.isalpha()]\n",
    "print(tokens_without_punc)"
   ]
  },
  {
   "cell_type": "code",
   "execution_count": 34,
   "metadata": {},
   "outputs": [
    {
     "name": "stdout",
     "output_type": "stream",
     "text": [
      "['oh', 'man', 'pretty', 'cool', 'things']\n"
     ]
    }
   ],
   "source": [
    "tokens_without_sw=[t for t in tokens_without_punc if t not in stop_words]\n",
    "print(tokens_without_sw)"
   ]
  },
  {
   "cell_type": "markdown",
   "metadata": {},
   "source": [
    "**Stemming and lemmatization**"
   ]
  },
  {
   "cell_type": "code",
   "execution_count": 41,
   "metadata": {},
   "outputs": [],
   "source": [
    "st=PorterStemmer()\n",
    "lem=WordNetLemmatizer()"
   ]
  },
  {
   "cell_type": "code",
   "execution_count": 45,
   "metadata": {},
   "outputs": [
    {
     "name": "stdout",
     "output_type": "stream",
     "text": [
      "['oh', 'man', 'pretti', 'cool', 'thing']\n"
     ]
    }
   ],
   "source": [
    "stems=[st.stem(t) for t in tokens_without_sw]\n",
    "print(stems)"
   ]
  },
  {
   "cell_type": "code",
   "execution_count": 46,
   "metadata": {},
   "outputs": [
    {
     "name": "stdout",
     "output_type": "stream",
     "text": [
      "['oh', 'man', 'pretty', 'cool', 'thing']\n"
     ]
    }
   ],
   "source": [
    "lems=[lem.lemmatize(t) for t in tokens_without_sw]\n",
    "print(lems)"
   ]
  },
  {
   "cell_type": "code",
   "execution_count": 47,
   "metadata": {},
   "outputs": [
    {
     "name": "stdout",
     "output_type": "stream",
     "text": [
      "tokenization: \n",
      " ['1.', 'oh', 'man', ',', 'this', 'is', 'pretty', 'cool', '.', 'we', 'will', 'do', 'more', 'such', 'things', '.'] \n",
      "\n",
      "removing punctation: \n",
      " ['oh', 'man', 'this', 'is', 'pretty', 'cool', 'we', 'will', 'do', 'more', 'such', 'things'] \n",
      "\n",
      "removing stopwords: \n",
      " ['oh', 'man', 'pretty', 'cool', 'things'] \n",
      "\n",
      "stemming \n",
      " ['oh', 'man', 'pretti', 'cool', 'thing'] \n",
      "\n",
      "lemmatization instead of stemming \n",
      " ['oh', 'man', 'pretty', 'cool', 'thing'] \n",
      "\n"
     ]
    }
   ],
   "source": [
    "print(\"tokenization:\",  \"\\n\", text_tokens,  \"\\n\")\n",
    "print(\"removing punctation:\",  \"\\n\", tokens_without_punc,  \"\\n\")\n",
    "print(\"removing stopwords:\",  \"\\n\", tokens_without_sw, \"\\n\")\n",
    "print(\"stemming\",  \"\\n\", stems, \"\\n\")\n",
    "print(\"lemmatization instead of stemming\",  \"\\n\", lems, \"\\n\")"
   ]
  },
  {
   "cell_type": "code",
   "execution_count": null,
   "metadata": {},
   "outputs": [],
   "source": []
  },
  {
   "cell_type": "code",
   "execution_count": null,
   "metadata": {},
   "outputs": [],
   "source": []
  }
 ],
 "metadata": {
  "kernelspec": {
   "display_name": "Python 3",
   "language": "python",
   "name": "python3"
  },
  "language_info": {
   "codemirror_mode": {
    "name": "ipython",
    "version": 3
   },
   "file_extension": ".py",
   "mimetype": "text/x-python",
   "name": "python",
   "nbconvert_exporter": "python",
   "pygments_lexer": "ipython3",
   "version": "3.8.5"
  }
 },
 "nbformat": 4,
 "nbformat_minor": 4
}
